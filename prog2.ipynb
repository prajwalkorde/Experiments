{
 "cells": [
  {
   "cell_type": "code",
   "execution_count": 2,
   "id": "c2ad3f33-4a44-465a-8d14-7a7e0366a7f8",
   "metadata": {},
   "outputs": [],
   "source": [
    "import numpy as np"
   ]
  },
  {
   "cell_type": "code",
   "execution_count": 13,
   "id": "9d32ae24-7786-459d-9218-33d1e98a0b2e",
   "metadata": {},
   "outputs": [],
   "source": [
    "arr = np.arange(100000)\n",
    "pylist = list(range(100000))"
   ]
  },
  {
   "cell_type": "code",
   "execution_count": 9,
   "id": "89ed0841-8698-49c8-85c8-b9552b4e4b0b",
   "metadata": {},
   "outputs": [
    {
     "name": "stdout",
     "output_type": "stream",
     "text": [
      "CPU times: total: 62.5 ms\n",
      "Wall time: 57.5 ms\n"
     ]
    }
   ],
   "source": [
    "%time for _ in range(10): [item*3 for item in pylist]"
   ]
  },
  {
   "cell_type": "code",
   "execution_count": 14,
   "id": "23cb3adc-7826-4af4-b927-19a4d3b71f2f",
   "metadata": {},
   "outputs": [
    {
     "name": "stdout",
     "output_type": "stream",
     "text": [
      "CPU times: total: 15.6 ms\n",
      "Wall time: 2 ms\n"
     ]
    }
   ],
   "source": [
    "%time for _ in range(10): arr = arr*3"
   ]
  },
  {
   "cell_type": "code",
   "execution_count": null,
   "id": "03b526ba-4198-44cf-88c9-68639c77a2d1",
   "metadata": {},
   "outputs": [],
   "source": []
  }
 ],
 "metadata": {
  "kernelspec": {
   "display_name": "Python 3 (ipykernel)",
   "language": "python",
   "name": "python3"
  },
  "language_info": {
   "codemirror_mode": {
    "name": "ipython",
    "version": 3
   },
   "file_extension": ".py",
   "mimetype": "text/x-python",
   "name": "python",
   "nbconvert_exporter": "python",
   "pygments_lexer": "ipython3",
   "version": "3.12.6"
  }
 },
 "nbformat": 4,
 "nbformat_minor": 5
}
