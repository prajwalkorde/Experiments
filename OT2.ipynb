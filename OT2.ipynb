{
 "cells": [
  {
   "cell_type": "code",
   "execution_count": 5,
   "id": "45116c57-edb1-461b-a4f8-be238b5ec8b3",
   "metadata": {},
   "outputs": [
    {
     "name": "stdin",
     "output_type": "stream",
     "text": [
      "Enter number of rows:  3\n",
      "Enter number of colomns:  4\n"
     ]
    },
    {
     "name": "stdout",
     "output_type": "stream",
     "text": [
      "Enter the cost matrix row by row (space-separated):\n"
     ]
    },
    {
     "name": "stdin",
     "output_type": "stream",
     "text": [
      " 10 20 30 40\n",
      " 50 60 70 80\n",
      " 90 100 110 120\n"
     ]
    },
    {
     "name": "stdout",
     "output_type": "stream",
     "text": [
      "Enter the supply (space-separated):\n"
     ]
    },
    {
     "name": "stdin",
     "output_type": "stream",
     "text": [
      " 50 50 50\n"
     ]
    },
    {
     "name": "stdout",
     "output_type": "stream",
     "text": [
      "Enter the demand (space-separated):\n"
     ]
    },
    {
     "name": "stdin",
     "output_type": "stream",
     "text": [
      " 100 100 100 100\n"
     ]
    },
    {
     "name": "stdout",
     "output_type": "stream",
     "text": [
      "Error: supply not equals to demand. Please check your inputs.\n"
     ]
    }
   ],
   "source": [
    "import numpy as np\n",
    "\n",
    "def lcm(cost_matrix, supply, demand):\n",
    "    rows, cols = len(supply), len(demand)\n",
    "    allocation = np.zeros((rows, cols))\n",
    "    \n",
    "    while sum(supply) > 0 and sum(demand) > 0:\n",
    "        min_cost = float('inf')\n",
    "        min_cell = (0, 0)\n",
    "        for i in range(rows):\n",
    "            for j in range(cols):\n",
    "                if cost_matrix[i][j] < min_cost and supply[i] > 0 and demand[j] > 0:\n",
    "                    min_cost = cost_matrix[i][j]\n",
    "                    min_cell = (i, j)\n",
    "        \n",
    "        i, j = min_cell\n",
    "        \n",
    "        allocation[i][j] = min(supply[i], demand[j])\n",
    "        allocation_value = allocation[i][j]\n",
    "        \n",
    "        supply[i] -= allocation_value\n",
    "        demand[j] -= allocation_value\n",
    "    \n",
    "    return allocation\n",
    "\n",
    "def t_cost(cost_matrix, allocation):\n",
    "    total_cost = 0\n",
    "    rows, cols = allocation.shape\n",
    "    for i in range(rows):\n",
    "        for j in range(cols):\n",
    "            total_cost += allocation[i][j] * cost_matrix[i][j]\n",
    "    return total_cost\n",
    "# *******************************************************************\n",
    "rows = int(input(\"Enter number of rows (integer only): \"))\n",
    "cols = int(input(\"Enter number of colomns (integer only): \"))\n",
    "\n",
    "print(\"Enter the cost matrix row by row (space-separated):\")\n",
    "cost_matrix = []\n",
    "for i in range(rows):\n",
    "    cost_matrix.append(list(map(int, input().split())))\n",
    "\n",
    "print(\"Enter the supply (space-separated):\")\n",
    "supply = list(map(int, input().split()))\n",
    "\n",
    "print(\"Enter the demand (space-separated):\")\n",
    "demand = list(map(int, input().split()))\n",
    "\n",
    "if sum(supply) != sum(demand):\n",
    "    print(\"Error: supply not equals to demand. try again!!\")\n",
    "else:\n",
    "    cost_matrix = np.array(cost_matrix)\n",
    "\n",
    "# *******************************************************************\n",
    "    allocation = lcm(cost_matrix, supply, demand)\n",
    "    total_cost = t_cost(cost_matrix, allocation)\n",
    "\n",
    "    print(\"\\nAllocation matrix:\")\n",
    "    print(allocation)\n",
    "    print(f\"Total Transportation Cost: {total_cost}\")\n"
   ]
  },
  {
   "cell_type": "code",
   "execution_count": null,
   "id": "38a0e4fb-60cd-41bc-8789-5333367cc735",
   "metadata": {},
   "outputs": [],
   "source": []
  }
 ],
 "metadata": {
  "kernelspec": {
   "display_name": "Python 3 (ipykernel)",
   "language": "python",
   "name": "python3"
  },
  "language_info": {
   "codemirror_mode": {
    "name": "ipython",
    "version": 3
   },
   "file_extension": ".py",
   "mimetype": "text/x-python",
   "name": "python",
   "nbconvert_exporter": "python",
   "pygments_lexer": "ipython3",
   "version": "3.12.6"
  }
 },
 "nbformat": 4,
 "nbformat_minor": 5
}
