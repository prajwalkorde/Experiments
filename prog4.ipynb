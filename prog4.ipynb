{
 "cells": [
  {
   "cell_type": "code",
   "execution_count": 1,
   "id": "bad4e5ed-5a16-414d-bfc3-9899014673b4",
   "metadata": {},
   "outputs": [],
   "source": [
    "import numpy as np"
   ]
  },
  {
   "cell_type": "code",
   "execution_count": 15,
   "id": "13685108-8034-42db-a7b5-be5b1e777e9e",
   "metadata": {},
   "outputs": [],
   "source": [
    "arr1 = np.array([[50,20],[70,10],[40,80]])"
   ]
  },
  {
   "cell_type": "code",
   "execution_count": 3,
   "id": "3140b511-596c-4996-ab9c-cfdc9261ec70",
   "metadata": {},
   "outputs": [],
   "source": [
    "arr2 = np.array([[10,20,30],[40,50,60]])"
   ]
  },
  {
   "cell_type": "code",
   "execution_count": 5,
   "id": "a3d9f52d-0751-496a-9e96-bb3c34b2f59f",
   "metadata": {},
   "outputs": [
    {
     "data": {
      "text/plain": [
       "array([[ 900, 1200, 1500],\n",
       "       [2400, 3300, 4200],\n",
       "       [3900, 5400, 6900]])"
      ]
     },
     "execution_count": 5,
     "metadata": {},
     "output_type": "execute_result"
    }
   ],
   "source": [
    "np.dot(arr1,arr2)"
   ]
  },
  {
   "cell_type": "code",
   "execution_count": 6,
   "id": "f6b3da5e-e995-4d1c-9146-e4b18b2f1cd7",
   "metadata": {},
   "outputs": [
    {
     "data": {
      "text/plain": [
       "(3, 2)"
      ]
     },
     "execution_count": 6,
     "metadata": {},
     "output_type": "execute_result"
    }
   ],
   "source": [
    "arr1.shape"
   ]
  },
  {
   "cell_type": "code",
   "execution_count": 11,
   "id": "e4b84f7e-5546-48b4-b3b2-fdefb2c02a52",
   "metadata": {},
   "outputs": [],
   "source": [
    "a= arr1.reshape(2,3).copy()"
   ]
  },
  {
   "cell_type": "code",
   "execution_count": 10,
   "id": "9eb298b2-bbcf-40ff-8043-efd2ec579d6d",
   "metadata": {},
   "outputs": [
    {
     "data": {
      "text/plain": [
       "(3, 2)"
      ]
     },
     "execution_count": 10,
     "metadata": {},
     "output_type": "execute_result"
    }
   ],
   "source": [
    "arr1.shape"
   ]
  },
  {
   "cell_type": "code",
   "execution_count": 12,
   "id": "c0bc366c-6d70-434a-967e-b7e7f8f37e00",
   "metadata": {},
   "outputs": [
    {
     "data": {
      "text/plain": [
       "(2, 3)"
      ]
     },
     "execution_count": 12,
     "metadata": {},
     "output_type": "execute_result"
    }
   ],
   "source": [
    "a.shape"
   ]
  },
  {
   "cell_type": "code",
   "execution_count": 18,
   "id": "7eacbfde-9fc4-4857-9912-fb2f2e71cb4b",
   "metadata": {},
   "outputs": [
    {
     "name": "stdout",
     "output_type": "stream",
     "text": [
      "[[10 50]\n",
      " [20 70]\n",
      " [40 80]]\n"
     ]
    }
   ],
   "source": [
    "arr1.sort(axis=0)\n",
    "print(arr1)"
   ]
  },
  {
   "cell_type": "code",
   "execution_count": null,
   "id": "8a40f46c-ad43-4cef-bc74-42ed81d8ef03",
   "metadata": {},
   "outputs": [],
   "source": []
  }
 ],
 "metadata": {
  "kernelspec": {
   "display_name": "Python 3 (ipykernel)",
   "language": "python",
   "name": "python3"
  },
  "language_info": {
   "codemirror_mode": {
    "name": "ipython",
    "version": 3
   },
   "file_extension": ".py",
   "mimetype": "text/x-python",
   "name": "python",
   "nbconvert_exporter": "python",
   "pygments_lexer": "ipython3",
   "version": "3.12.6"
  }
 },
 "nbformat": 4,
 "nbformat_minor": 5
}
