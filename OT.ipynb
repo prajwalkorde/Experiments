{
 "cells": [
  {
   "cell_type": "code",
   "execution_count": 1,
   "id": "f66da797-e593-4c57-ab6f-4986c934be4e",
   "metadata": {},
   "outputs": [
    {
     "name": "stdout",
     "output_type": "stream",
     "text": [
      "Allocation matrix:\n",
      "[[ 0.  0.  0. 70.]\n",
      " [20.  0. 70.  0.]\n",
      " [30. 80.  0. 70.]]\n",
      "Total Transportation Cost: 83000.0\n"
     ]
    }
   ],
   "source": [
    "import numpy as np\n",
    "\n",
    "def least_cost_method(cost_matrix, supply, demand):\n",
    "    rows, cols = len(supply), len(demand)\n",
    "    allocation = np.zeros((rows, cols))\n",
    "    \n",
    "    while sum(supply) > 0 and sum(demand) > 0:\n",
    "        # Find the cell with the minimum cost\n",
    "        min_cost = float('inf')\n",
    "        min_cell = (0, 0)\n",
    "        for i in range(rows):\n",
    "            for j in range(cols):\n",
    "                if cost_matrix[i][j] < min_cost and supply[i] > 0 and demand[j] > 0:\n",
    "                    min_cost = cost_matrix[i][j]\n",
    "                    min_cell = (i, j)\n",
    "        \n",
    "        i, j = min_cell\n",
    "        \n",
    "        # Allocate resources\n",
    "        allocation[i][j] = min(supply[i], demand[j])\n",
    "        allocation_value = allocation[i][j]\n",
    "        \n",
    "        # Update supply and demand\n",
    "        supply[i] -= allocation_value\n",
    "        demand[j] -= allocation_value\n",
    "    \n",
    "    return allocation\n",
    "\n",
    "def calculate_total_cost(cost_matrix, allocation):\n",
    "    total_cost = 0\n",
    "    rows, cols = allocation.shape\n",
    "    for i in range(rows):\n",
    "        for j in range(cols):\n",
    "            total_cost += allocation[i][j] * cost_matrix[i][j]\n",
    "    return total_cost\n",
    "\n",
    "# Example usage\n",
    "cost_matrix = [\n",
    "    [190, 300, 500, 100],\n",
    "    [700, 300, 400, 600],\n",
    "    [400, 100, 400, 200],\n",
    "]\n",
    "\n",
    "supply = [70, 90, 180]\n",
    "demand = [50, 80, 70, 140]\n",
    "\n",
    "\n",
    "allocation = least_cost_method(cost_matrix, supply, demand)\n",
    "total_cost = calculate_total_cost(cost_matrix, allocation)\n",
    "\n",
    "print(\"Allocation matrix:\")\n",
    "print(allocation)\n",
    "print(f\"Total Transportation Cost: {total_cost}\")\n"
   ]
  },
  {
   "cell_type": "code",
   "execution_count": null,
   "id": "99e60198-a3ce-4a5d-9085-c19cf9264b38",
   "metadata": {},
   "outputs": [],
   "source": []
  }
 ],
 "metadata": {
  "kernelspec": {
   "display_name": "Python 3 (ipykernel)",
   "language": "python",
   "name": "python3"
  },
  "language_info": {
   "codemirror_mode": {
    "name": "ipython",
    "version": 3
   },
   "file_extension": ".py",
   "mimetype": "text/x-python",
   "name": "python",
   "nbconvert_exporter": "python",
   "pygments_lexer": "ipython3",
   "version": "3.12.6"
  }
 },
 "nbformat": 4,
 "nbformat_minor": 5
}
